{
 "cells": [
  {
   "cell_type": "markdown",
   "id": "06fcbfd6",
   "metadata": {},
   "source": [
    "# Question # 11 - Geometry Calculator "
   ]
  },
  {
   "cell_type": "code",
   "execution_count": 1,
   "id": "3bde9ec3",
   "metadata": {},
   "outputs": [
    {
     "name": "stdout",
     "output_type": "stream",
     "text": [
      "1 Calculate Area of a Circle\n",
      "2 Calculate Area of a Rectangle\n",
      "3 Calculate Area of a Triangle\n",
      "4 Quit\n",
      "4\n",
      "Program has ended\n"
     ]
    }
   ],
   "source": [
    "print(\"1 Calculate Area of a Circle\")\n",
    "print(\"2 Calculate Area of a Rectangle\")\n",
    "print(\"3 Calculate Area of a Triangle\")\n",
    "print(\"4 Quit\")\n",
    "\n",
    "x = int(input())\n",
    "\n",
    "if x == 1:\n",
    "    rad = float(input(\"Enter radius of circle: \"))\n",
    "    print(\"Area of Circle is: \", 2*rad*3.14159)\n",
    "elif x == 2:\n",
    "    len = float(input(\"Enter length of rectangle: \"))\n",
    "    wid = float(input(\"Enter width of rectangle: \"))\n",
    "    print(\"Area of Rectangle is: \", len*wid)\n",
    "elif x == 3:\n",
    "    base = float(input(\"Enter length of triangle's base: \"))\n",
    "    hei = float(input(\"Enter height of triangle: \"))\n",
    "    print(\"Area of Triangle is: \", (base*hei)/2)\n",
    "elif x == 4:\n",
    "    print(\"Program has ended\")\n",
    "else:\n",
    "    print(\"Wrong input\")"
   ]
  },
  {
   "cell_type": "markdown",
   "id": "10884fd2",
   "metadata": {},
   "source": [
    "# Question # 12 - Running The Race"
   ]
  },
  {
   "cell_type": "code",
   "execution_count": 5,
   "id": "1b748e0f",
   "metadata": {},
   "outputs": [
    {
     "name": "stdout",
     "output_type": "stream",
     "text": [
      "Enter name for player 1: ss\n",
      "Enter time taken to finish race for player 1: 23\n",
      "Enter name for player 2: sv\n",
      "Enter time taken to finish race for player 2: 1\n",
      "Enter name for player 3: sv\n",
      "Enter time taken to finish race for player 3: 23\n",
      "Player 2 with time 1.0 is 1st. Player 1 with time 23.0 is equal to Player 3 with time 23.0\n"
     ]
    }
   ],
   "source": [
    "name1 = input(\"Enter name for player 1: \")\n",
    "time1 = float(input(\"Enter time taken to finish race for player 1: \"))\n",
    "if time1 < 0:\n",
    "    print(\"Invalid time entered\")\n",
    "    \n",
    "name2 = input(\"Enter name for player 2: \")\n",
    "time2 = float(input(\"Enter time taken to finish race for player 2: \"))\n",
    "if time2 < 0:\n",
    "    print(\"Invalid time entered\")\n",
    "    \n",
    "name3 = input(\"Enter name for player 3: \")\n",
    "time3 = float(input(\"Enter time taken to finish race for player 3: \"))\n",
    "if time3 < 0:\n",
    "    print(\"Invalid time entered\")\n",
    "    \n",
    "#checks\n",
    "if time1 < time2 and time1 < time3 and time2 < time3:\n",
    "    print(\"Player 1 with time\", time1, \"is 1st. Player 2 with time\", time2, \"is 2nd and Player 3 with time\", time3, \"is 3rd\")\n",
    "elif time1 < time2 and time1 < time3 and time3 < time2:\n",
    "    print(\"Player 1 with time\", time1, \"is 1st. Player 3 with time\", time3, \"is 2nd and Player 2 with time\", time2, \"is 3rd\")\n",
    "\n",
    "elif time2 < time1 and time2 < time3 and time1 < time3:\n",
    "    print(\"Player 2 with time\", time2, \"is 1st. Player 1 with time\", time1, \"is 2nd and Player 3 with time\", time3, \"is 3rd\")\n",
    "elif time2 < time1 and time2 < time3 and time3 < time1:\n",
    "    print(\"Player 2 with time\", time2, \"is 1st. Player 3 with time\", time3, \"is 2nd and Player 1 with time\", time1, \"is 3rd\")\n",
    "\n",
    "elif time3 < time1 and time3 < time2 and time1 < time2:\n",
    "    print(\"Player 3 with time\", time3, \"is 1st. Player 1 with time\", time1, \"is 2nd and Player 2 with time\", time2, \"is 3rd\")\n",
    "elif time3 < time1 and time3 < time2 and time2 < time1:\n",
    "    print(\"Player 3 with time\", time3, \"is 1st. Player 2 with time\", time2, \"is 2nd and Player 1 with time\", time1, \"is 3rd\")\n",
    "    \n",
    "    \n",
    "elif time1 < time2 and time1 < time3 and time2 == time3:\n",
    "    print(\"Player 1 with time\", time1, \"is 1st. Player 2 with time\", time2, \"is equal to Player 3 with time\", time3)\n",
    "\n",
    "elif time2 < time1 and time2 < time3 and time1 == time3:\n",
    "    print(\"Player 2 with time\", time2, \"is 1st. Player 1 with time\", time1, \"is equal to Player 3 with time\", time3)\n",
    "\n",
    "elif time3 < time1 and time3 < time2 and time1 == time2:\n",
    "    print(\"Player 3 with time\", time3, \"is 1st. Player 1 with time\", time1, \"is equal to Player 2 with time\", time2)\n",
    "\n",
    "    \n",
    "    \n",
    "elif time1 > time2 and time1 > time3 and time2 == time3:\n",
    "    print(\"Player 1 with time\", time1, \"is 3rd. Player 2 with time\", time2, \"is equal to Player 3 with time\", time3)\n",
    "\n",
    "elif time2 > time1 and time2 > time3 and time1 == time3:\n",
    "    print(\"Player 2 with time\", time2, \"is 3rd. Player 1 with time\", time1, \"is equal to Player 3 with time\", time3)\n",
    "\n",
    "elif time3 > time1 and time3 > time2 and time1 == time2:\n",
    "    print(\"Player 3 with time\", time3, \"is 3rd. Player 1 with time\", time1, \"is equal to Player 2 with time\", time2)\n",
    "  \n",
    "#check for when all players finish at the same time\n",
    "elif time1 == time2 and time2 == time3:\n",
    "    print(\"All players finished at the same time:\", time1, time2, time3)\n",
    "    "
   ]
  },
  {
   "cell_type": "markdown",
   "id": "2e6e13f5",
   "metadata": {},
   "source": [
    "# Question # 13 - Personal Best"
   ]
  },
  {
   "cell_type": "code",
   "execution_count": 6,
   "id": "9453557d",
   "metadata": {},
   "outputs": [
    {
     "name": "stdout",
     "output_type": "stream",
     "text": [
      "Enter name: \n",
      "Hadi\n",
      "Data for Vault 1. Enter dates and heights (in meters) of 3 best vaults below: \n",
      "\n",
      "Enter date:32\n",
      "Enter month:54\n",
      "Enter year:2022\n",
      "\n",
      "Enter height no 1 in between 2 and 5 meters: \n",
      "3\n",
      "Data for Vault 2 :\n",
      "Enter date:23\n",
      "Enter month:54\n",
      "Enter year:12\n",
      "\n",
      "Enter height no 2 in between 2 and 5 meters: \n",
      "3\n",
      "Data for Vault 3 :\n",
      "Enter date:32\n",
      "Enter month:23\n",
      "Enter year:23\n",
      "\n",
      "Enter height no 3 in between 2 and 5 meters: \n",
      "5\n",
      "The best vault is with height: 5.0 and date: 32 - 23 - 23 . Second and First are equal with height: 3.0\n"
     ]
    }
   ],
   "source": [
    "name = input(\"Enter name: \\n\")\n",
    "print(\"Data for Vault 1. Enter dates and heights (in meters) of 3 best vaults below: \\n\")\n",
    "\n",
    "date1 = input(\"Enter date:\")\n",
    "month1 = input(\"Enter month:\")\n",
    "year1 = input(\"Enter year:\")\n",
    "\n",
    "len1 = float(input(\"\\nEnter height no 1 in between 2 and 5 meters: \\n\"))\n",
    "if len1 < 2.0 and len1 > 5.0:\n",
    "    print(\"Invalid height entered\")\n",
    "\n",
    "print(\"Data for Vault 2 :\")\n",
    "date2 = input(\"Enter date:\")\n",
    "month2 = input(\"Enter month:\")\n",
    "year2 = input(\"Enter year:\")\n",
    "\n",
    "len2 = float(input(\"\\nEnter height no 2 in between 2 and 5 meters: \\n\"))\n",
    "if len2 < 2.0 and len2 > 5.0:\n",
    "    print(\"Invalid height entered\")\n",
    "\n",
    "print(\"Data for Vault 3 :\")\n",
    "date3 = input(\"Enter date:\")\n",
    "month3 = input(\"Enter month:\")\n",
    "year3 = input(\"Enter year:\")\n",
    "\n",
    "len3 = float(input(\"\\nEnter height no 3 in between 2 and 5 meters: \\n\"))\n",
    "if len3 < 2.0 and len3 > 5.0:\n",
    "    print(\"Invalid height entered\")\n",
    "\n",
    "#checks\n",
    "#1 is first, 2 is second and 3 is third\n",
    "if len1 > len2 and len2 > len3:\n",
    "    print(\"The best vault is with height:\", len1, \"and date:\", date1,\"-\",month1,\"-\",year1,\". Second best is with height:\",len2,\" and date:\", date2,\"-\", month2,\"-\",year2,\". Third best vault is with height:\", len3,\"and date:\",date3,\"-\",month3,\"-\",year3,\"\\n\")\n",
    "\n",
    "#1 is first, 3 is second and 2 is third\n",
    "elif len1 > len2 and len3 > len2:\n",
    "    print(\"The best vault is with height:\", len1, \"and date:\", date1,\"-\",month1,\"-\",year1,\". Second best is with height:\",len3,\" and date:\", date3,\"-\", month3,\"-\",year3,\". Third best vault is with height:\", len2,\"and date:\",date2,\"-\",month2,\"-\",year2,\"\\n\")\n",
    "\n",
    "#2 is first, 1 is second and 3 is third\n",
    "elif len2 > len1 and len1 > len3:\n",
    "    print(\"The best vault is with height:\", len2, \"and date:\", date2,\"-\",month2,\"-\",year2,\". Second best is with height:\",len1,\" and date:\", date1,\"-\", month1,\"-\",year1,\". Third best vault is with height:\", len3,\"and date:\",date3,\"-\",month3,\"-\",year3,\"\\n\")\n",
    "\n",
    "#2 is first, 3 is second and 1 is third\n",
    "elif len2 > len1 and len3 > len1:\n",
    "    print(\"The best vault is with height:\", len2, \"and date:\", date2,\"-\",month2,\"-\",year2,\". Second best is with height:\",len3,\" and date:\", date3,\"-\", month3,\"-\",year3,\". Third best vault is with height:\", len1,\"and date:\",date1,\"-\",month1,\"-\",year1,\"\\n\")\n",
    "\n",
    "#3 is first, 1 is second and 2 is third\n",
    "elif len3 > len1 and len1 > len2:\n",
    "    print(\"The best vault is with height:\", len3, \"and date:\", date3,\"-\",month3,\"-\",year3,\". Second best is with height:\",len1,\" and date:\", date1,\"-\", month1,\"-\",year1,\". Third best vault is with height:\", len2,\"and date:\",date2,\"-\",month2,\"-\",year2,\"\\n\")\n",
    "\n",
    "#3 is first, 2 is second and 1 is third\n",
    "elif len3 > len2 and len2 > len1:\n",
    "    print(\"The best vault is with height:\", len3, \"and date:\", date3,\"-\",month3,\"-\",year3,\". Second best is with height:\",len2,\" and date:\", date2,\"-\", month2,\"-\",year2,\". Third best vault is with height:\", len1,\"and date:\",date1,\"-\",month1,\"-\",year1,\"\\n\")\n",
    "\n",
    "\n",
    "    \n",
    "    \n",
    "#1 is first, 3 is  equal to 2\n",
    "elif len1 > len2 and len2 == len3:\n",
    "    print(\"The best vault is with height:\", len1, \"and date:\", date1,\"-\",month1,\"-\",year1,\". Second and third are equal with height:\",len3)\n",
    "#2 is first, 1 is equal to 3\n",
    "elif len2 > len1 and len1 == len3:\n",
    "    print(\"The best vault is with height:\", len2, \"and date:\", date2,\"-\",month2,\"-\",year2,\". First and third are equal with height:\",len1)\n",
    "\n",
    "#3 is first, 2 is equal to 1\n",
    "elif len3 > len1 and len1 == len2:\n",
    "    print(\"The best vault is with height:\", len3, \"and date:\", date3,\"-\",month3,\"-\",year3,\". Second and First are equal with height:\",len2)\n"
   ]
  },
  {
   "cell_type": "markdown",
   "id": "462c686e",
   "metadata": {},
   "source": [
    "# Question # 14 - Body Mass Index"
   ]
  },
  {
   "cell_type": "code",
   "execution_count": 9,
   "id": "4632521a",
   "metadata": {},
   "outputs": [
    {
     "name": "stdout",
     "output_type": "stream",
     "text": [
      "Welcome to Body Mass Index (BMI) calculator\n",
      "Please enter your weight in pounds: \n",
      "23\n",
      "Please enter your height in inches: \n",
      "352\n",
      "\n",
      "Your BMI is: 16169.0 pounds/in\n",
      "You are over-weight\n"
     ]
    }
   ],
   "source": [
    "print(\"Welcome to Body Mass Index (BMI) calculator\")\n",
    "weight = float(input(\"Please enter your weight in pounds: \\n\"))\n",
    "height = float(input(\"Please enter your height in inches: \\n\"))\n",
    "BMI = (weight*703) / height*height\n",
    "\n",
    "print(\"\\nYour BMI is:\",BMI,\"pounds/in\")\n",
    "\n",
    "if BMI >= 18.5 and BMI <= 25:\n",
    "    print(\"You have optimal weight\")\n",
    "elif BMI < 18.5:\n",
    "    print(\"You are under-weight\")\n",
    "elif BMI > 25:\n",
    "    print(\"You are over-weight\")"
   ]
  },
  {
   "cell_type": "markdown",
   "id": "a369ff1a",
   "metadata": {},
   "source": [
    "# Question # 15 - Fat Gram Calculator"
   ]
  },
  {
   "cell_type": "code",
   "execution_count": 1,
   "id": "c9476cca",
   "metadata": {},
   "outputs": [
    {
     "name": "stdout",
     "output_type": "stream",
     "text": [
      "Enter no of calories. Must be greater than 0: 45\n",
      "Enter no of fat in grams. Must be greater than 0: 56\n",
      "Percentage of Calories coming from fat are:  504.0 %\n",
      "Invalid entry of total calories or fat grams\n",
      "\n",
      "Food is low in fat\n"
     ]
    }
   ],
   "source": [
    "calories = float(input(\"Enter no of calories. Must be greater than 0: \"))\n",
    "fat_grams = float(input(\"Enter no of fat in grams. Must be greater than 0: \"))\n",
    "print(\"Percentage of Calories coming from fat are: \", fat_grams*9,\"%\")\n",
    "\n",
    "if fat_grams*9 > calories:\n",
    "    print(\"Invalid entry of total calories or fat grams\")\n",
    "\n",
    "if (fat_grams*9/calories) < (calories*0.30):\n",
    "    print(\"\\nFood is low in fat\")\n",
    "\n",
    "    "
   ]
  },
  {
   "cell_type": "markdown",
   "id": "9457712e",
   "metadata": {},
   "source": [
    "# Question # 16 - The Speed of Sound"
   ]
  },
  {
   "cell_type": "code",
   "execution_count": 11,
   "id": "967ad2c0",
   "metadata": {},
   "outputs": [
    {
     "name": "stdout",
     "output_type": "stream",
     "text": [
      "Select Medium for the menu below: \n",
      "Medium\t\t\tSpeed (feet per sec)\n",
      "1. Air\t\t\t1,100\n",
      "2. Water\t\t4,900\n",
      "3. Steel\t\t16,400\n",
      "Press 1 for Air, 2 for Water and 3 for Steel: \n",
      "2\n",
      "Enter number of feet you want sound to travel: \n",
      "2.96484613516\n",
      "Sound will take 14527.7461 seconds to travel through 2.96484613516 ft\n"
     ]
    }
   ],
   "source": [
    "print(\"Select Medium for the menu below: \")\n",
    "print(\"Medium\\t\\t\\tSpeed (feet per sec)\")\n",
    "print(\"1. Air\\t\\t\\t1,100\")\n",
    "print(\"2. Water\\t\\t4,900\")\n",
    "print(\"3. Steel\\t\\t16,400\")\n",
    "x = int(input(\"Press 1 for Air, 2 for Water and 3 for Steel: \\n\"))\n",
    "feet = float(input(\"Enter number of feet you want sound to travel: \\n\"))\n",
    "if feet < 0:\n",
    "    print(\"Invalid amount of feet entered\")\n",
    "\n",
    "if x == 1:\n",
    "    print(\"Sound will take\", round(feet*1100, 4), \"seconds to travel through\",feet,\"ft\")\n",
    "elif x == 2:\n",
    "    print(\"Sound will take\", round(feet*4900, 4), \"seconds to travel through\",feet,\"ft\")\n",
    "elif x == 3:\n",
    "    print(\"Sound will take\", round(feet*16400, 4), \"seconds to travel through\",feet,\"ft\")  \n",
    "else:\n",
    "    print(\"You selected invalid option from menu\")"
   ]
  },
  {
   "cell_type": "markdown",
   "id": "ccacd124",
   "metadata": {},
   "source": [
    "# Question # 17 - The Speed of Sound in Gases"
   ]
  },
  {
   "cell_type": "code",
   "execution_count": 1,
   "id": "853d4765",
   "metadata": {},
   "outputs": [
    {
     "name": "stdout",
     "output_type": "stream",
     "text": [
      "Select Medium for the menu below: \n",
      "Medium\t\t\tSpeed (meters per sec)\n",
      "1. Carbon Dioxide\t1,258.0\n",
      "2. Air\t\t\t4,331.5\n",
      "3. Helium\t\t16,972.0\n",
      "4. Hydrogen\t\t1270.0\n",
      "Enter 1 for Carbon Dioxide, 2 for Air, 3 for Helium and 4 for Hydrogen: \n",
      "1\n",
      "Enter number of seconds sound took to reach the place it was detected: \n",
      "523\n",
      "Sound was detected 134934.0 meters away\n"
     ]
    }
   ],
   "source": [
    "print(\"Select Medium for the menu below: \")\n",
    "print(\"Medium\\t\\t\\tSpeed (meters per sec)\")\n",
    "print(\"1. Carbon Dioxide\\t1,258.0\")\n",
    "print(\"2. Air\\t\\t\\t4,331.5\")\n",
    "print(\"3. Helium\\t\\t16,972.0\")\n",
    "print(\"4. Hydrogen\\t\\t1270.0\")\n",
    "x = int(input(\"Enter 1 for Carbon Dioxide, 2 for Air, 3 for Helium and 4 for Hydrogen: \\n\"))\n",
    "sec = float(input(\"Enter number of seconds sound took to reach the place it was detected. Enter seconds more than 0 and no less than 30: \\n\"))\n",
    "if sec < 0 or sec > 30:\n",
    "    print(\"Invalid amount of seconds entered\")\n",
    "if x == 1:\n",
    "    print(\"Sound was detected\", sec*258.0,\"meters away\")\n",
    "elif x == 2:\n",
    "    print(\"Sound was detected\", sec*331.0,\"meters away\")\n",
    "elif x == 3:\n",
    "    print(\"Sound was detected\", sec*972.0,\"meters away\")\n",
    "elif x == 4:\n",
    "    print(\"Sound was detected\", sec*1270.0,\"meters away\")\n",
    "else:\n",
    "    print(\"Invalid option selected\")"
   ]
  },
  {
   "cell_type": "markdown",
   "id": "8251c601",
   "metadata": {},
   "source": [
    "# Question # 18 - Spectral Analysis"
   ]
  },
  {
   "cell_type": "code",
   "execution_count": 5,
   "id": "fe139d25",
   "metadata": {},
   "outputs": [
    {
     "name": "stdout",
     "output_type": "stream",
     "text": [
      "Enter wavelength of electro-magnetic wave: \n",
      "1e08\n",
      "Electro-magnetic wave is a Gamma Ray Wave with wavelength 100000000.0\n"
     ]
    }
   ],
   "source": [
    "wavelen = float(input(\"Enter wavelength of electro-magnetic wave: \\n\"))\n",
    "if wavelen <= 1e-02:\n",
    "    print(\"Electro-magnetic wave is a Radio Wave with wavelength\", wavelen)\n",
    "\n",
    "elif wavelen > 1e-02 and wavelen <= 1e-03:\n",
    "    print(\"Electro-magnetic wave is a Micro Wave with wavelength\", wavelen)\n",
    "\n",
    "elif wavelen > 1e-03 and wavelen <= 7e-07:\n",
    "    print(\"Electro-magnetic wave is a Infra-red Wave with wavelength\", wavelen)\n",
    "\n",
    "elif wavelen > 7e-07 and wavelen <= 4e-07:\n",
    "    print(\"Electro-magnetic wave is a Visible Light Wave with wavelength\", wavelen)\n",
    "\n",
    "elif wavelen > 4e-07 and wavelen <= 1e-08:\n",
    "    print(\"Electro-magnetic wave is a Ultra-violet Wave with wavelength\", wavelen)\n",
    "\n",
    "elif wavelen > 1e-08 and wavelen <= 1e-11:\n",
    "    print(\"Electro-magnetic wave is a X-Ray Wave with wavelength\", wavelen)\n",
    "\n",
    "elif wavelen > 1e-11:\n",
    "    print(\"Electro-magnetic wave is a Gamma Ray Wave with wavelength\", wavelen)"
   ]
  },
  {
   "cell_type": "markdown",
   "id": "d2937a25",
   "metadata": {},
   "source": [
    "# Question # 19 - Long Distance Cells"
   ]
  },
  {
   "cell_type": "code",
   "execution_count": 7,
   "id": "43b886b3",
   "metadata": {},
   "outputs": [
    {
     "ename": "NameError",
     "evalue": "name 'static_cast' is not defined",
     "output_type": "error",
     "traceback": [
      "\u001b[1;31m---------------------------------------------------------------------------\u001b[0m",
      "\u001b[1;31mNameError\u001b[0m                                 Traceback (most recent call last)",
      "\u001b[1;32m~\\AppData\\Local\\Temp/ipykernel_5032/794375701.py\u001b[0m in \u001b[0;36m<module>\u001b[1;34m\u001b[0m\n\u001b[0;32m      1\u001b[0m \u001b[0mnum\u001b[0m \u001b[1;33m=\u001b[0m \u001b[1;36m07.00\u001b[0m\u001b[1;33m\u001b[0m\u001b[1;33m\u001b[0m\u001b[0m\n\u001b[1;32m----> 2\u001b[1;33m \u001b[0mnum\u001b[0m\u001b[1;33m-\u001b[0m\u001b[0mstatic_cast\u001b[0m\u001b[1;33m<\u001b[0m\u001b[0mint\u001b[0m\u001b[1;33m>\u001b[0m\u001b[1;33m(\u001b[0m\u001b[0mnum\u001b[0m\u001b[1;33m)\u001b[0m\u001b[1;33m\u001b[0m\u001b[1;33m\u001b[0m\u001b[0m\n\u001b[0m\u001b[0;32m      3\u001b[0m \u001b[0mextra\u001b[0m\u001b[1;33m\u001b[0m\u001b[1;33m\u001b[0m\u001b[0m\n",
      "\u001b[1;31mNameError\u001b[0m: name 'static_cast' is not defined"
     ]
    }
   ],
   "source": [
    "num = 07.00\n",
    "num-static_cast<int>(num)\n",
    "extra"
   ]
  },
  {
   "cell_type": "markdown",
   "id": "aff1eb0b",
   "metadata": {},
   "source": [
    "# Question # 20 - Freezing and Boiling Points"
   ]
  },
  {
   "cell_type": "code",
   "execution_count": 8,
   "id": "e25b6ca2",
   "metadata": {},
   "outputs": [
    {
     "name": "stdout",
     "output_type": "stream",
     "text": [
      "Enter temperature: \n",
      "212\n",
      "Water will boil at 212 F\n"
     ]
    }
   ],
   "source": [
    "temp = int(input(\"Enter temperature: \\n\"))\n",
    "if temp == -173:\n",
    "    print(\"Ethyl Alcohol will freeze at\", temp,\"F\")\n",
    "elif temp == 172:\n",
    "    print(\"Ethyl Alcohol will boil at\", temp,\"F\")\n",
    "elif temp == -38:\n",
    "    print(\"Mercury will freeze at\", temp,\"F\")\n",
    "elif temp == 676:\n",
    "    print(\"Mercury will boil at\", temp,\"F\")\n",
    "elif temp == -362:\n",
    "    print(\"Oxygen will freeze at\", temp,\"F\")\n",
    "elif temp == -306:\n",
    "    print(\"Oxygen will boil at\", temp,\"F\")\n",
    "elif temp == 32:\n",
    "    print(\"Water will freeze at\", temp,\"F\")\n",
    "elif temp == 212:\n",
    "    print(\"Water will boil at\", temp,\"F\")\n"
   ]
  },
  {
   "cell_type": "markdown",
   "id": "f47f0da3",
   "metadata": {},
   "source": [
    "# Question # 21 - Internet Service Provider"
   ]
  },
  {
   "cell_type": "code",
   "execution_count": 5,
   "id": "326b6cc1",
   "metadata": {},
   "outputs": [
    {
     "name": "stdout",
     "output_type": "stream",
     "text": [
      "Enter your name: \n",
      "Hadi\n",
      "Enter A for Package A, B for Package B and C for Package C: \n",
      "A\n",
      "Enter no of hours internet was used. Enter hours less than 744: \n",
      "12\n",
      "Your Monthly Bill: \n",
      "\n",
      "Name:\t\t\t\t   Hadi\n",
      "Package:\t\t\t   A\n",
      "Amount of hours internet was used: 12\n",
      "Total amount due is:\t\t   13.95 $\n"
     ]
    }
   ],
   "source": [
    "name = input(\"Enter your name: \\n\")\n",
    "package = input(\"Enter A for Package A, B for Package B and C for Package C: \\n\")\n",
    "if package != 'A' and package != 'B' and package != 'C':\n",
    "    print(\"Invalid selection for package\")\n",
    "hours_used = int(input(\"Enter no of hours internet was used. Enter hours less than 744: \\n\"))\n",
    "if hours_used > 744:\n",
    "    print(\"Hours entered exceed 744\")\n",
    "\n",
    "if package == 'A':\n",
    "    if hours_used <= 10:\n",
    "        cost = 9.95\n",
    "    else:\n",
    "        cost = 9.95\n",
    "        extra_hours = hours_used - 10\n",
    "        extra_cost = extra_hours * 2.00\n",
    "        cost = cost + extra_cost\n",
    "        \n",
    "elif package == 'B':\n",
    "    if hours_used <= 20:\n",
    "        cost = 14.95\n",
    "    else:\n",
    "        cost = 14.95\n",
    "        extra_hours = hours_used - 20\n",
    "        extra_cost = extra_hours*1.00\n",
    "        cost += extra_cost\n",
    "        \n",
    "elif package == 'C':\n",
    "    cost = 14.95\n",
    "    \n",
    "print(\"Your Monthly Bill: \\n\")\n",
    "print(\"Name:\\t\\t\\t\\t  \",name)\n",
    "print(\"Package:\\t\\t\\t  \",package)\n",
    "print(\"Amount of hours internet was used:\", hours_used)\n",
    "print(\"Total amount due is:\\t\\t  \", cost,\"$\")"
   ]
  },
  {
   "cell_type": "code",
   "execution_count": null,
   "id": "0e3e78e2",
   "metadata": {},
   "outputs": [],
   "source": []
  }
 ],
 "metadata": {
  "kernelspec": {
   "display_name": "Python 3 (ipykernel)",
   "language": "python",
   "name": "python3"
  },
  "language_info": {
   "codemirror_mode": {
    "name": "ipython",
    "version": 3
   },
   "file_extension": ".py",
   "mimetype": "text/x-python",
   "name": "python",
   "nbconvert_exporter": "python",
   "pygments_lexer": "ipython3",
   "version": "3.9.7"
  }
 },
 "nbformat": 4,
 "nbformat_minor": 5
}

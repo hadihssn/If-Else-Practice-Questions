{
 "cells": [
  {
   "cell_type": "markdown",
   "id": "78b2f574",
   "metadata": {},
   "source": [
    "# Question # 1 - Minimum/Maximum"
   ]
  },
  {
   "cell_type": "code",
   "execution_count": 1,
   "id": "76940c1b",
   "metadata": {},
   "outputs": [
    {
     "name": "stdout",
     "output_type": "stream",
     "text": [
      "Enter a number: \n",
      "5\n",
      "Enter a number: \n",
      "6\n",
      "Number:  6  is greater than number:  5\n"
     ]
    }
   ],
   "source": [
    "one = int(input(\"Enter a number: \\n\"))\n",
    "two = int(input(\"Enter a number: \\n\"))\n",
    "if one > two:\n",
    "    print(\"Number: \", one, \" is greater than number: \", two)\n",
    "elif one < two:\n",
    "    print(\"Number: \", two, \" is greater than number: \", one)\n",
    "else:\n",
    "    print(\"Numbers: \", one, \" and \", two , \" are equal\")\n",
    "    "
   ]
  },
  {
   "cell_type": "markdown",
   "id": "32b361c5",
   "metadata": {},
   "source": [
    "# Question # 2 - Roman Numeral Convertor"
   ]
  },
  {
   "cell_type": "code",
   "execution_count": 4,
   "id": "b81b0143",
   "metadata": {},
   "outputs": [
    {
     "name": "stdout",
     "output_type": "stream",
     "text": [
      "Enter number: \n",
      "5\n",
      "Roman Numeral is: V\n"
     ]
    }
   ],
   "source": [
    "num = int(input(\"Enter number: \\n\"))\n",
    "if num < 1 or num > 10:\n",
    "    print(\"Number is less than 1 or greater than 10\\n\")\n",
    "else:\n",
    "    if num == 1:\n",
    "        print(\"Roman Numeral is: I\")\n",
    "    elif num == 2:\n",
    "        print(\"Roman Numeral is: II\")\n",
    "    elif num == 3:\n",
    "        print(\"Roman Numeral is: III\")\n",
    "    elif num == 4:\n",
    "        print(\"Roman Numeral is: IV\")\n",
    "    elif num == 5:\n",
    "        print(\"Roman Numeral is: V\")\n",
    "    elif num == 6:\n",
    "        print(\"Roman Numeral is: VI\")\n",
    "    elif num == 7:\n",
    "        print(\"Roman Numeral is: VII\")\n",
    "    elif num == 8:\n",
    "        print(\"Roman Numeral is: VIII\")\n",
    "    elif num == 9:\n",
    "        print(\"Roman Numeral is: IX\")\n",
    "    elif num == 10:\n",
    "        print(\"Roman Numeral is: X\")"
   ]
  },
  {
   "cell_type": "markdown",
   "id": "08142440",
   "metadata": {},
   "source": [
    "# Question # 3 - Magic Date Checker"
   ]
  },
  {
   "cell_type": "code",
   "execution_count": 6,
   "id": "fa1d2def",
   "metadata": {},
   "outputs": [
    {
     "name": "stdout",
     "output_type": "stream",
     "text": [
      "Enter date: \n",
      "26\n",
      "Enter month: \n",
      "3\n",
      "Enter year in 2 digit format. For eg if year is 2022, enter 22: \n",
      "22\n",
      "Date is not magic date\n"
     ]
    }
   ],
   "source": [
    "date = int(input(\"Enter date: \\n\"))\n",
    "month = int(input(\"Enter month: \\n\"))\n",
    "year = int(input(\"Enter year in 2 digit format. For eg if year is 2022, enter 22: \\n\"))\n",
    "if year == date*month:\n",
    "    print(\"Date is magic date. Date multiplied Month is: \", date*month, \" and year is: \", year)\n",
    "else:\n",
    "    print(\"Date is not magic date\")"
   ]
  },
  {
   "cell_type": "markdown",
   "id": "c8b83685",
   "metadata": {},
   "source": [
    "# Question # 4 - Areas of Rectangles"
   ]
  },
  {
   "cell_type": "code",
   "execution_count": 7,
   "id": "07f2bb79",
   "metadata": {},
   "outputs": [
    {
     "name": "stdout",
     "output_type": "stream",
     "text": [
      "Enter length for rectangle 1: \n",
      "5\n",
      "Enter width for rectangle 1: \n",
      "6\n",
      "Enter length for rectangle 2: \n",
      "8\n",
      "Enter width for rectangle 2: \n",
      "9\n",
      "Area of rectangle 2:  72.0  is greater than area of rectangle 1:  30.0\n"
     ]
    }
   ],
   "source": [
    "len1 = float(input(\"Enter length for rectangle 1: \\n\"))\n",
    "wid1 = float(input(\"Enter width for rectangle 1: \\n\"))\n",
    "len2 = float(input(\"Enter length for rectangle 2: \\n\"))\n",
    "wid2 = float(input(\"Enter width for rectangle 2: \\n\"))\n",
    "if len1*wid1 > len2*wid2:\n",
    "    print(\"Area of rectangle 1: \", len1*wid1, \" is greater than area of rectangle 2: \", len2*wid2)\n",
    "elif len1*wid1 < len2*wid2:\n",
    "    print(\"Area of rectangle 2: \", len2*wid2, \" is greater than area of rectangle 1: \", len1*wid1)"
   ]
  },
  {
   "cell_type": "markdown",
   "id": "34b74168",
   "metadata": {},
   "source": [
    "# Question # 5 - Book Club Points"
   ]
  },
  {
   "cell_type": "code",
   "execution_count": 8,
   "id": "b586f660",
   "metadata": {},
   "outputs": [
    {
     "name": "stdout",
     "output_type": "stream",
     "text": [
      "Enter number of books purchased this month: \n",
      "5\n",
      "Points earned are 60\n"
     ]
    }
   ],
   "source": [
    "x = int(input(\"Enter number of books purchased this month: \\n\"))\n",
    "if x == 0:\n",
    "    print(\"Points earned are 0\")\n",
    "elif x == 1:\n",
    "    print(\"Points earned are 5\")\n",
    "elif x == 2:\n",
    "    print(\"Points earned are 15\")\n",
    "elif x == 3:\n",
    "    print(\"Points earned are 30\")\n",
    "elif x >= 4:\n",
    "    print(\"Points earned are 60\")"
   ]
  },
  {
   "cell_type": "markdown",
   "id": "9f7bf840",
   "metadata": {},
   "source": [
    "# Question # 6 - Mass and Weight"
   ]
  },
  {
   "cell_type": "code",
   "execution_count": 6,
   "id": "105fa9c2",
   "metadata": {},
   "outputs": [
    {
     "name": "stdout",
     "output_type": "stream",
     "text": [
      "Enter mass of object in kilograms: \n",
      "60\n",
      "Weight of object is:  588.0  N.\n"
     ]
    }
   ],
   "source": [
    "mass = float(input(\"Enter mass of object in kilograms: \\n\"))\n",
    "print(\"Weight of object is: \", mass*9.8, \" N.\")\n",
    "if mass*9.8 > 1000:\n",
    "    print(\"Object is too heavy\")\n",
    "elif mass*9.8 < 10:\n",
    "    print(\"Object is too light\")"
   ]
  },
  {
   "cell_type": "markdown",
   "id": "64d53831",
   "metadata": {},
   "source": [
    "# Question # 7 - Time Calculator"
   ]
  },
  {
   "cell_type": "code",
   "execution_count": 3,
   "id": "b8afe5a3",
   "metadata": {},
   "outputs": [
    {
     "name": "stdout",
     "output_type": "stream",
     "text": [
      "Enter number of seconds: \n",
      "3600\n",
      "Number of hours in  3600.0  seconds are  1.0\n"
     ]
    }
   ],
   "source": [
    "sec = float(input(\"Enter number of seconds: \\n\"))\n",
    "if sec >= 86400:\n",
    "    print(\"Number of days in \", sec, \" seconds are \", sec/86400)\n",
    "elif sec < 86400 and sec >= 3600:\n",
    "    print(\"Number of hours in \", sec, \" seconds are \", sec/3600)\n",
    "elif sec < 3600 and sec >= 60:\n",
    "    print(\"Number of minutes in \", sec, \" seconds are \", sec/60)"
   ]
  },
  {
   "cell_type": "markdown",
   "id": "b87aed1e",
   "metadata": {},
   "source": [
    "# Question # 8 - Math Tutor"
   ]
  },
  {
   "cell_type": "code",
   "execution_count": 1,
   "id": "d851f85b",
   "metadata": {},
   "outputs": [
    {
     "name": "stdout",
     "output_type": "stream",
     "text": [
      "Two numbers are:  30  and  40\n",
      "\n",
      "Enter their Sum: \n",
      "2\n",
      "Answer is wrong\n",
      "Correct answer was:  70\n"
     ]
    }
   ],
   "source": [
    "import random\n",
    "\n",
    "x = (random.randint(10, 50))\n",
    "y = (random.randint(10, 50))\n",
    "print(\"Two numbers are: \", x ,\" and \", y)\n",
    "print(\"\\nEnter their Sum: \")\n",
    "z = int(input())\n",
    "if z == (x+y):\n",
    "    print(\"Answer is correct\")\n",
    "else:\n",
    "    print(\"Answer is wrong\")\n",
    "    print(\"Correct answer was: \", x+y)"
   ]
  },
  {
   "cell_type": "markdown",
   "id": "c355bcc6",
   "metadata": {},
   "source": [
    "# Question # 9 - Software Sales"
   ]
  },
  {
   "cell_type": "code",
   "execution_count": 4,
   "id": "f77ff632",
   "metadata": {},
   "outputs": [
    {
     "name": "stdout",
     "output_type": "stream",
     "text": [
      "Enter number of units purchased: \n",
      "12\n",
      "Total cost is:  968  after 20% discount. Original price was 1188\n"
     ]
    }
   ],
   "source": [
    "cost = 0\n",
    "unit_price = 99\n",
    "x = int(input(\"Enter number of units purchased: \\n\"))\n",
    "if x > 0:\n",
    "    if x >= 10 and x <= 19:\n",
    "        cost = x * unit_price\n",
    "        sub = (cost//100)*20\n",
    "        disc = cost - sub\n",
    "        print(\"Total cost is: \", disc , \" after 20% discount. Original price was\", cost)\n",
    "    elif x >= 20 and x <= 49:\n",
    "        cost = x * unit_price\n",
    "        sub = (cost//100)*30\n",
    "        disc = cost - sub\n",
    "        print(\"Total cost is: \", disc , \" after 30% discount. Original price was \", cost)\n",
    "    elif x >= 50 and x <= 99:\n",
    "        cost = x * unit_price\n",
    "        sub = (cost//100)*40\n",
    "        disc = cost - sub\n",
    "        print(\"Total cost is: \", disc , \" after 40% discount. Original price was \", cost)\n",
    "    elif x >= 100:\n",
    "        cost = x * unit_price\n",
    "        sub = (cost//100)*50\n",
    "        disc = cost - sub\n",
    "        print(\"Total cost is: \", disc , \" after 50% discount. Original price was \", cost)\n",
    "else:\n",
    "    print(\"Number of units entered are less than 0\")"
   ]
  },
  {
   "cell_type": "markdown",
   "id": "00faeeb1",
   "metadata": {},
   "source": [
    "# Question # 10 - Bank Charges"
   ]
  },
  {
   "cell_type": "code",
   "execution_count": 32,
   "id": "8c1d1184",
   "metadata": {},
   "outputs": [
    {
     "ename": "TypeError",
     "evalue": "'int' object is not callable",
     "output_type": "error",
     "traceback": [
      "\u001b[1;31m---------------------------------------------------------------------------\u001b[0m",
      "\u001b[1;31mTypeError\u001b[0m                                 Traceback (most recent call last)",
      "\u001b[1;32m~\\AppData\\Local\\Temp/ipykernel_7016/2812930772.py\u001b[0m in \u001b[0;36m<module>\u001b[1;34m\u001b[0m\n\u001b[1;32m----> 1\u001b[1;33m \u001b[0mno_of_checks\u001b[0m \u001b[1;33m=\u001b[0m \u001b[0mint\u001b[0m\u001b[1;33m(\u001b[0m\u001b[0minput\u001b[0m\u001b[1;33m(\u001b[0m\u001b[1;34m\"Enter number of checks written during the past month: \\n\"\u001b[0m\u001b[1;33m)\u001b[0m\u001b[1;33m)\u001b[0m\u001b[1;33m\u001b[0m\u001b[1;33m\u001b[0m\u001b[0m\n\u001b[0m\u001b[0;32m      2\u001b[0m \u001b[1;32mif\u001b[0m \u001b[0mno_of_checks\u001b[0m \u001b[1;33m<\u001b[0m \u001b[1;36m1\u001b[0m\u001b[1;33m:\u001b[0m\u001b[1;33m\u001b[0m\u001b[1;33m\u001b[0m\u001b[0m\n\u001b[0;32m      3\u001b[0m     \u001b[0mprint\u001b[0m\u001b[1;33m(\u001b[0m\u001b[1;34m\"Invalid amount of checks entered\"\u001b[0m\u001b[1;33m)\u001b[0m\u001b[1;33m\u001b[0m\u001b[1;33m\u001b[0m\u001b[0m\n\u001b[0;32m      4\u001b[0m \u001b[1;32melse\u001b[0m\u001b[1;33m:\u001b[0m\u001b[1;33m\u001b[0m\u001b[1;33m\u001b[0m\u001b[0m\n\u001b[0;32m      5\u001b[0m     \u001b[1;32mif\u001b[0m \u001b[0mno_of_checks\u001b[0m \u001b[1;33m<\u001b[0m \u001b[1;36m20\u001b[0m\u001b[1;33m:\u001b[0m\u001b[1;33m\u001b[0m\u001b[1;33m\u001b[0m\u001b[0m\n",
      "\u001b[1;31mTypeError\u001b[0m: 'int' object is not callable"
     ]
    }
   ],
   "source": [
    "no_of_checks = int(input(\"Enter number of checks written during the past month: \\n\"))\n",
    "if no_of_checks < 1:\n",
    "    print(\"Invalid amount of checks entered\")\n",
    "else:\n",
    "    if no_of_checks < 20:\n",
    "        print(\"Total Bank Fees to be paid\", 10+(0.10*no_of_checks))\n",
    "    elif no_of_checks >= 20 and no_of_checks <= 39:\n",
    "        print(\"Total Bank Fees to be paid\", 10+(0.08*no_of_checks))\n",
    "    elif no_of_checks <= 40 and no_of_checks <= 59:\n",
    "        print(\"Total Bank Fees to be paid\", 10+(0.06*no_of_checks))\n",
    "    elif no_of_checks >= 60:\n",
    "        print(\"Total Bank Fees to be paid\", 10+(0.04*no_of_checks))"
   ]
  },
  {
   "cell_type": "code",
   "execution_count": null,
   "id": "4fc86d29",
   "metadata": {},
   "outputs": [],
   "source": []
  }
 ],
 "metadata": {
  "kernelspec": {
   "display_name": "Python 3 (ipykernel)",
   "language": "python",
   "name": "python3"
  },
  "language_info": {
   "codemirror_mode": {
    "name": "ipython",
    "version": 3
   },
   "file_extension": ".py",
   "mimetype": "text/x-python",
   "name": "python",
   "nbconvert_exporter": "python",
   "pygments_lexer": "ipython3",
   "version": "3.9.7"
  }
 },
 "nbformat": 4,
 "nbformat_minor": 5
}
